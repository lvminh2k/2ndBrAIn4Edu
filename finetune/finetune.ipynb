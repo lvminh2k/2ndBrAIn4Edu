{
 "cells": [
  {
   "cell_type": "code",
   "execution_count": 1,
   "metadata": {},
   "outputs": [
    {
     "name": "stderr",
     "output_type": "stream",
     "text": [
      "d:\\Study\\Own project\\Solar\\2ndBrAIn4Edu\\.venv\\Lib\\site-packages\\tqdm\\auto.py:21: TqdmWarning: IProgress not found. Please update jupyter and ipywidgets. See https://ipywidgets.readthedocs.io/en/stable/user_install.html\n",
      "  from .autonotebook import tqdm as notebook_tqdm\n",
      "None of PyTorch, TensorFlow >= 2.0, or Flax have been found. Models won't be available and only tokenizers, configuration and file/data utilities can be used.\n"
     ]
    }
   ],
   "source": [
    "from predibase import Predibase, FinetuningConfig, DeploymentConfig\n",
    "from tokenizers import Tokenizer\n",
    "from datasets import load_dataset\n",
    "from dotenv import load_dotenv\n",
    "import pandas as pd\n",
    "import csv\n",
    "import os\n",
    "import warnings\n"
   ]
  },
  {
   "cell_type": "code",
   "execution_count": 2,
   "metadata": {},
   "outputs": [
    {
     "data": {
      "text/html": [
       "<pre style=\"white-space:pre;overflow-x:auto;line-height:normal;font-family:Menlo,'DejaVu Sans Mono',consolas,'Courier New',monospace\"><span style=\"color: #000080; text-decoration-color: #000080; font-weight: bold\">Connected to Predibase as </span><span style=\"color: #800080; text-decoration-color: #800080; font-weight: bold\">User</span><span style=\"color: #000080; text-decoration-color: #000080; font-weight: bold\">(</span><span style=\"color: #808000; text-decoration-color: #808000; font-weight: bold\">id</span><span style=\"color: #000080; text-decoration-color: #000080; font-weight: bold\">=</span><span style=\"color: #ffff00; text-decoration-color: #ffff00\">969ba496</span><span style=\"color: #ffff00; text-decoration-color: #ffff00\">-7305-466e-85ed-adac3f11aea7</span><span style=\"color: #000080; text-decoration-color: #000080; font-weight: bold\">, </span><span style=\"color: #808000; text-decoration-color: #808000; font-weight: bold\">username</span><span style=\"color: #000080; text-decoration-color: #000080; font-weight: bold\">=</span><span style=\"color: #800080; text-decoration-color: #800080; font-weight: bold\">thienlqswd00012</span><span style=\"color: #000080; text-decoration-color: #000080; font-weight: bold\">@fpt.edu.vn)</span>\n",
       "</pre>\n"
      ],
      "text/plain": [
       "\u001b[1;34mConnected to Predibase as \u001b[0m\u001b[1;35mUser\u001b[0m\u001b[1;34m(\u001b[0m\u001b[1;33mid\u001b[0m\u001b[1;34m=\u001b[0m\u001b[93m969ba496\u001b[0m\u001b[93m-7305-466e-85ed-adac3f11aea7\u001b[0m\u001b[1;34m, \u001b[0m\u001b[1;33musername\u001b[0m\u001b[1;34m=\u001b[0m\u001b[1;35mthienlqswd00012\u001b[0m\u001b[1;34m@fpt.edu.vn\u001b[0m\u001b[1;34m)\u001b[0m\n"
      ]
     },
     "metadata": {},
     "output_type": "display_data"
    }
   ],
   "source": [
    "load_dotenv()\n",
    "warnings.filterwarnings(\"ignore\")\n",
    "pb = Predibase(api_token=os.getenv(\"PREDIBASE_API_KEY\"))"
   ]
  },
  {
   "cell_type": "code",
   "execution_count": 3,
   "metadata": {},
   "outputs": [],
   "source": [
    "def validate_data_csv(csv_file_name):\n",
    "  \"\"\" Make sure it has prompt, completion, and split with all values \"\"\"\n",
    "  with open(csv_file_name, 'r',  encoding='utf-8') as f:\n",
    "    reader = csv.DictReader(f)\n",
    "    for row in reader:\n",
    "      assert row['prompt']\n",
    "      assert row['completion']\n",
    "      assert row['split']\n",
    "\n",
    "  return True"
   ]
  },
  {
   "cell_type": "code",
   "execution_count": 4,
   "metadata": {},
   "outputs": [],
   "source": [
    "from tokenizers import Tokenizer\n",
    "tokenizer = Tokenizer.from_pretrained(\"upstage/solar-1-mini-tokenizer\")\n",
    "\n",
    "def compute_cost(csv_file_name, price_per_million_tokens=0.5):\n",
    "  \"\"\" Compute the cost of the dataset \"\"\"\n",
    "\n",
    "  total_num_of_tokens = 0\n",
    "  with open(csv_file_name, 'r', encoding='utf-8') as f:\n",
    "    reader = csv.DictReader(f)\n",
    "    # get all values\n",
    "    values = [row['completion']+ \" \" + row['prompt'] for row in reader]\n",
    "    for value in values:\n",
    "      # tokenize\n",
    "      enc = tokenizer.encode(value)\n",
    "      num_of_tokens = len(enc.tokens)\n",
    "      total_num_of_tokens += num_of_tokens\n",
    "\n",
    "\n",
    "  return total_num_of_tokens / 1000000 * price_per_million_tokens"
   ]
  },
  {
   "cell_type": "code",
   "execution_count": 5,
   "metadata": {},
   "outputs": [],
   "source": [
    "def process_csv(csv_file_name_raw, csv_file_name, max_rows=-1):\n",
    "    template = {\n",
    "        \"prompt\": \"\"\"<|im_start|>user\\n {question} <|im_end|>\\n<|im_start|>assistant\\n\"\"\",\n",
    "        \"completion\": \"{answer}<|im_end|>\",\n",
    "    }\n",
    "\n",
    "\n",
    "    # Load the raw CSV file\n",
    "    df_raw = pd.read_csv(csv_file_name_raw)\n",
    "\n",
    "    # Prepare the new DataFrame\n",
    "    df_new = pd.DataFrame()\n",
    "\n",
    "    # Format 'question' and 'answer' according to the template and add 'split'\n",
    "    df_new['prompt'] = df_raw['Question'].apply(lambda x: template['prompt'].format(question=x))\n",
    "    df_new['completion'] = df_raw['Answer'].apply(lambda x: template['completion'].format(answer=x))\n",
    "    df_new['split'] = 'train'\n",
    "\n",
    "    # Write the new DataFrame to the new CSV file, up to max_rows\n",
    "    df_new[:max_rows].to_csv(f\"{csv_file_name}\", index=False)"
   ]
  },
  {
   "cell_type": "code",
   "execution_count": 6,
   "metadata": {},
   "outputs": [],
   "source": [
    "dataset_name = \"jeju\"\n",
    "dataset_name_csv = f\"{dataset_name}.csv\""
   ]
  },
  {
   "cell_type": "code",
   "execution_count": 7,
   "metadata": {},
   "outputs": [
    {
     "name": "stdout",
     "output_type": "stream",
     "text": [
      "Dataset not found: jeju\n",
      "Creating dataset: jeju\n",
      "Dataset Validation: True\n",
      "One step FT Cost: 0.002407 USD\n",
      "Uploading dataset...\n"
     ]
    }
   ],
   "source": [
    "try:\n",
    "    pb_dataset = pb.datasets.get(dataset_name)\n",
    "    print(f\"Dataset found: {pb_dataset}\")\n",
    "except RuntimeError:\n",
    "    print(f\"Dataset not found: {dataset_name}\")\n",
    "    print(f\"Creating dataset: {dataset_name}\")\n",
    "\n",
    "    process_csv(f\"data/raw/{dataset_name}.csv\", f\"data/finetune/{dataset_name_csv}\")\n",
    "\n",
    "    print(f\"Dataset Validation: {validate_data_csv(f'data/finetune/{dataset_name_csv}')}\")\n",
    "\n",
    "    print(f\"One step FT Cost: {compute_cost(f'data/finetune/{dataset_name_csv}')} USD\")\n",
    "    \n",
    "    print(\"Uploading dataset...\")\n",
    "    \n",
    "    pb_dataset = pb.datasets.from_file(file_path=f\"data/finetune/{dataset_name_csv}\", name=dataset_name)"
   ]
  },
  {
   "cell_type": "code",
   "execution_count": 8,
   "metadata": {},
   "outputs": [
    {
     "data": {
      "text/plain": [
       "Dataset(uuid='0aea382e-547c-48f3-9b6c-71b7e00046fd', name='jeju', connection_type='file', connection_name='file_uploads', status='connected')"
      ]
     },
     "execution_count": 8,
     "metadata": {},
     "output_type": "execute_result"
    }
   ],
   "source": [
    "pb_dataset"
   ]
  },
  {
   "cell_type": "code",
   "execution_count": 9,
   "metadata": {},
   "outputs": [
    {
     "name": "stdout",
     "output_type": "stream",
     "text": [
      "uuid='441a6eaf-c5ab-4787-9d61-174628cc3908' name='news-jeju-model' description=''\n"
     ]
    }
   ],
   "source": [
    "# Create an adapter repository\n",
    "repo_name = f\"news-{dataset_name}-model\"\n",
    "repo = pb.repos.create(name=repo_name, description=\"\", exists_ok=True)\n",
    "print(repo)"
   ]
  },
  {
   "cell_type": "code",
   "execution_count": 10,
   "metadata": {},
   "outputs": [
    {
     "name": "stdout",
     "output_type": "stream",
     "text": [
      "Successfully requested finetuning of solar-1-mini-chat-240612 as `news-jeju-model/2`. (Job UUID: 92efa625-9718-4c3b-860b-9d661689936d).\n",
      "\n",
      "Watching progress of finetuning job 92efa625-9718-4c3b-860b-9d661689936d. This call will block until the job has finished. Canceling or terminating this call will NOT cancel or terminate the job itself.\n",
      "\n",
      "Job is starting. Total queue time: 0:00:46         \n",
      "Waiting to receive training metrics...\n",
      "\n",
      "┌────────────┬────────────┬─────────────────┐\n",
      "│ checkpoint \u001b[0m│ train_loss \u001b[0m│ validation_loss \u001b[0m│\n",
      "├────────────┼────────────┼─────────────────┤\n",
      "│     1      \u001b[0m│   2.0599   \u001b[0m│        --       \u001b[0m│\n",
      "│     2      \u001b[0m│   2.3026   \u001b[0m│        --       \u001b[0m│\n",
      "│     3      \u001b[0m│   2.0130   \u001b[0m│        --       \u001b[0m│\n",
      "└────────────┴────────────┴─────────────────┘\n"
     ]
    }
   ],
   "source": [
    "# Start a fine-tuning job, blocks until training is finished\n",
    "adapter = pb.adapters.create(\n",
    "    config=FinetuningConfig(\n",
    "        base_model=\"solar-1-mini-chat-240612\",\n",
    "        epochs=3,\n",
    "        rank=1, # default: 16\n",
    "    ),\n",
    "    dataset=pb_dataset, # Also accepts the dataset name as a string\n",
    "    repo=repo,\n",
    "    description=\"Finetune with database_system dataset\",\n",
    ")"
   ]
  },
  {
   "cell_type": "code",
   "execution_count": null,
   "metadata": {},
   "outputs": [],
   "source": []
  }
 ],
 "metadata": {
  "kernelspec": {
   "display_name": ".venv",
   "language": "python",
   "name": "python3"
  },
  "language_info": {
   "codemirror_mode": {
    "name": "ipython",
    "version": 3
   },
   "file_extension": ".py",
   "mimetype": "text/x-python",
   "name": "python",
   "nbconvert_exporter": "python",
   "pygments_lexer": "ipython3",
   "version": "3.11.6"
  }
 },
 "nbformat": 4,
 "nbformat_minor": 2
}
